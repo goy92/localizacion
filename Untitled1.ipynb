{
 "cells": [
  {
   "cell_type": "code",
   "execution_count": 32,
   "metadata": {},
   "outputs": [],
   "source": [
    "from pymongo import MongoClient\n",
    "import pandas as pd\n",
    "import numpy as np\n",
    "from dotenv import load_dotenv\n",
    "import os\n",
    "import requests\n",
    "import json\n",
    "import funciones"
   ]
  },
  {
   "cell_type": "code",
   "execution_count": 33,
   "metadata": {},
   "outputs": [],
   "source": [
    "def querys(cat_ID = '', query = ''):\n",
    "    url = 'https://api.foursquare.com/v2/venues/explore'\n",
    "    params= dict(\n",
    "            client_id='HIX31VQGRL1GODLF1XYQO5ERLH1WBFWLLCAPWYHLNATD55JC',\n",
    "            client_secret= '3CVWFRJLEFHRKVT3HCMGEAK1ZOW1NZU3OAUOSRP2AGOTLIC2',\n",
    "            v='20180323',\n",
    "            ll='37.781265, -122.393229',\n",
    "            categoryId = cat_ID,\n",
    "            query = query,\n",
    "            radius = 1000\n",
    "    )\n",
    "\n",
    "def call_api(filter):\n",
    "    print(\"qsdfdf\")\n",
    "    if filter == 'starbucks':\n",
    "        params = querys(query= 'starbucks')\n",
    "    else:\n",
    "        params = querys(categoryId= codigos)\n",
    "\n",
    "    respoco = requests.get(url=url, params=params)\n",
    "    a = json.loads(respoco.text)\n",
    "    return a\n",
    "\n",
    "codigos = [\n",
    "    \"starbucks\",\n",
    "    \"4bf58dd8d48988d11f941735\",\n",
    "    \"5744ccdfe4b0c0459246b4c7\"\n",
    "]\n",
    "\n",
    "def datafram(lugar):\n",
    "   name=[]\n",
    "   lat=[]\n",
    "   lng=[]\n",
    "   for e in lugar['response']['groups'][0]['items']:\n",
    "       name.append(e['venue']['name'])\n",
    "       lat.append(e['venue']['location']['lat'])\n",
    "       lng.append(e['venue']['location']['lng'])\n",
    "   \n",
    "   lugar = {\"name\":name, \"latitude\":lat, \"longitude\":lng}\n",
    "   return pd.DataFrame(lugar)"
   ]
  },
  {
   "cell_type": "code",
   "execution_count": 34,
   "metadata": {},
   "outputs": [
    {
     "name": "stdout",
     "output_type": "stream",
     "text": [
      "qsdfdf\n",
      "{'meta': {'code': 400, 'errorType': 'invalid_auth', 'errorDetail': 'Missing access credentials. See https://developer.foursquare.com/docs/api/configuration/authentication for details.', 'requestId': '5d890537cc7d41003786d41d'}, 'response': {}}\n",
      "qsdfdf\n"
     ]
    },
    {
     "ename": "TypeError",
     "evalue": "querys() got an unexpected keyword argument 'categoryId'",
     "output_type": "error",
     "traceback": [
      "\u001b[0;31m---------------------------------------------------------------------------\u001b[0m",
      "\u001b[0;31mTypeError\u001b[0m                                 Traceback (most recent call last)",
      "\u001b[0;32m<ipython-input-34-844f562e471a>\u001b[0m in \u001b[0;36m<module>\u001b[0;34m\u001b[0m\n\u001b[1;32m      1\u001b[0m \u001b[0;32mfor\u001b[0m \u001b[0me\u001b[0m \u001b[0;32min\u001b[0m \u001b[0mcodigos\u001b[0m\u001b[0;34m:\u001b[0m\u001b[0;34m\u001b[0m\u001b[0;34m\u001b[0m\u001b[0m\n\u001b[0;32m----> 2\u001b[0;31m     \u001b[0maux\u001b[0m \u001b[0;34m=\u001b[0m \u001b[0mcall_api\u001b[0m\u001b[0;34m(\u001b[0m\u001b[0me\u001b[0m\u001b[0;34m)\u001b[0m\u001b[0;34m\u001b[0m\u001b[0;34m\u001b[0m\u001b[0m\n\u001b[0m\u001b[1;32m      3\u001b[0m     \u001b[0mprint\u001b[0m\u001b[0;34m(\u001b[0m\u001b[0maux\u001b[0m\u001b[0;34m)\u001b[0m\u001b[0;34m\u001b[0m\u001b[0;34m\u001b[0m\u001b[0m\n",
      "\u001b[0;32m<ipython-input-33-7f1e4885d74a>\u001b[0m in \u001b[0;36mcall_api\u001b[0;34m(filter)\u001b[0m\n\u001b[1;32m     16\u001b[0m         \u001b[0mparams\u001b[0m \u001b[0;34m=\u001b[0m \u001b[0mquerys\u001b[0m\u001b[0;34m(\u001b[0m\u001b[0mquery\u001b[0m\u001b[0;34m=\u001b[0m \u001b[0;34m'starbucks'\u001b[0m\u001b[0;34m)\u001b[0m\u001b[0;34m\u001b[0m\u001b[0;34m\u001b[0m\u001b[0m\n\u001b[1;32m     17\u001b[0m     \u001b[0;32melse\u001b[0m\u001b[0;34m:\u001b[0m\u001b[0;34m\u001b[0m\u001b[0;34m\u001b[0m\u001b[0m\n\u001b[0;32m---> 18\u001b[0;31m         \u001b[0mparams\u001b[0m \u001b[0;34m=\u001b[0m \u001b[0mquerys\u001b[0m\u001b[0;34m(\u001b[0m\u001b[0mcategoryId\u001b[0m\u001b[0;34m=\u001b[0m \u001b[0mcodigos\u001b[0m\u001b[0;34m)\u001b[0m\u001b[0;34m\u001b[0m\u001b[0;34m\u001b[0m\u001b[0m\n\u001b[0m\u001b[1;32m     19\u001b[0m \u001b[0;34m\u001b[0m\u001b[0m\n\u001b[1;32m     20\u001b[0m     \u001b[0mrespoco\u001b[0m \u001b[0;34m=\u001b[0m \u001b[0mrequests\u001b[0m\u001b[0;34m.\u001b[0m\u001b[0mget\u001b[0m\u001b[0;34m(\u001b[0m\u001b[0murl\u001b[0m\u001b[0;34m=\u001b[0m\u001b[0murl\u001b[0m\u001b[0;34m,\u001b[0m \u001b[0mparams\u001b[0m\u001b[0;34m=\u001b[0m\u001b[0mparams\u001b[0m\u001b[0;34m)\u001b[0m\u001b[0;34m\u001b[0m\u001b[0;34m\u001b[0m\u001b[0m\n",
      "\u001b[0;31mTypeError\u001b[0m: querys() got an unexpected keyword argument 'categoryId'"
     ]
    }
   ],
   "source": [
    "for e in codigos:\n",
    "    aux = call_api(e)\n",
    "    print(aux)"
   ]
  },
  {
   "cell_type": "code",
   "execution_count": null,
   "metadata": {},
   "outputs": [],
   "source": []
  },
  {
   "cell_type": "code",
   "execution_count": null,
   "metadata": {},
   "outputs": [],
   "source": []
  }
 ],
 "metadata": {
  "kernelspec": {
   "display_name": "Python 3",
   "language": "python",
   "name": "python3"
  },
  "language_info": {
   "codemirror_mode": {
    "name": "ipython",
    "version": 3
   },
   "file_extension": ".py",
   "mimetype": "text/x-python",
   "name": "python",
   "nbconvert_exporter": "python",
   "pygments_lexer": "ipython3",
   "version": "3.7.3"
  }
 },
 "nbformat": 4,
 "nbformat_minor": 2
}
