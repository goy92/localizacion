{
 "cells": [
  {
   "cell_type": "code",
   "execution_count": 44,
   "metadata": {},
   "outputs": [],
   "source": [
    "from pymongo import MongoClient\n",
    "import pandas as pd\n",
    "import numpy as np\n",
    "from dotenv import load_dotenv\n",
    "import os"
   ]
  },
  {
   "cell_type": "markdown",
   "metadata": {},
   "source": [
    "# Nos conectamos a la base de datos"
   ]
  },
  {
   "cell_type": "code",
   "execution_count": 63,
   "metadata": {},
   "outputs": [],
   "source": [
    "load_dotenv()\n",
    "secret = os.getenv(\"client_secret\")\n"
   ]
  },
  {
   "cell_type": "code",
   "execution_count": 6,
   "metadata": {},
   "outputs": [],
   "source": [
    "client = MongoClient(\"mongodb://localhost:27017/\")\n",
    "db = client.companies"
   ]
  },
  {
   "cell_type": "code",
   "execution_count": 7,
   "metadata": {},
   "outputs": [],
   "source": [
    "companies = db.companies.find()"
   ]
  },
  {
   "cell_type": "code",
   "execution_count": 9,
   "metadata": {},
   "outputs": [],
   "source": [
    "data_companies = pd.DataFrame(companies)"
   ]
  },
  {
   "cell_type": "code",
   "execution_count": 62,
   "metadata": {},
   "outputs": [
    {
     "data": {
      "text/html": [
       "<div>\n",
       "<style scoped>\n",
       "    .dataframe tbody tr th:only-of-type {\n",
       "        vertical-align: middle;\n",
       "    }\n",
       "\n",
       "    .dataframe tbody tr th {\n",
       "        vertical-align: top;\n",
       "    }\n",
       "\n",
       "    .dataframe thead th {\n",
       "        text-align: right;\n",
       "    }\n",
       "</style>\n",
       "<table border=\"1\" class=\"dataframe\">\n",
       "  <thead>\n",
       "    <tr style=\"text-align: right;\">\n",
       "      <th></th>\n",
       "      <th>_id</th>\n",
       "      <th>name</th>\n",
       "      <th>permalink</th>\n",
       "      <th>crunchbase_url</th>\n",
       "      <th>homepage_url</th>\n",
       "      <th>blog_url</th>\n",
       "      <th>blog_feed_url</th>\n",
       "      <th>twitter_username</th>\n",
       "      <th>category_code</th>\n",
       "      <th>number_of_employees</th>\n",
       "      <th>...</th>\n",
       "      <th>video_embeds</th>\n",
       "      <th>screenshots</th>\n",
       "      <th>external_links</th>\n",
       "      <th>partners</th>\n",
       "      <th>founded_month</th>\n",
       "      <th>founded_day</th>\n",
       "      <th>deadpooled_month</th>\n",
       "      <th>deadpooled_day</th>\n",
       "      <th>deadpooled_url</th>\n",
       "      <th>ipo</th>\n",
       "    </tr>\n",
       "  </thead>\n",
       "  <tbody>\n",
       "    <tr>\n",
       "      <td>0</td>\n",
       "      <td>52cdef7c4bab8bd675297d8b</td>\n",
       "      <td>AdventNet</td>\n",
       "      <td>abc3</td>\n",
       "      <td>http://www.crunchbase.com/company/adventnet</td>\n",
       "      <td>http://adventnet.com</td>\n",
       "      <td></td>\n",
       "      <td></td>\n",
       "      <td>manageengine</td>\n",
       "      <td>enterprise</td>\n",
       "      <td>600.0</td>\n",
       "      <td>...</td>\n",
       "      <td>[]</td>\n",
       "      <td>[{'available_sizes': [[[150, 94], 'assets/imag...</td>\n",
       "      <td>[]</td>\n",
       "      <td>[]</td>\n",
       "      <td>NaN</td>\n",
       "      <td>NaN</td>\n",
       "      <td>NaN</td>\n",
       "      <td>NaN</td>\n",
       "      <td>NaN</td>\n",
       "      <td>NaN</td>\n",
       "    </tr>\n",
       "    <tr>\n",
       "      <td>1</td>\n",
       "      <td>52cdef7c4bab8bd675297d8c</td>\n",
       "      <td>Zoho</td>\n",
       "      <td>abc4</td>\n",
       "      <td>http://www.crunchbase.com/company/zoho</td>\n",
       "      <td>http://zoho.com</td>\n",
       "      <td>http://blogs.zoho.com/</td>\n",
       "      <td>http://blogs.zoho.com/feed</td>\n",
       "      <td>zoho</td>\n",
       "      <td>software</td>\n",
       "      <td>1600.0</td>\n",
       "      <td>...</td>\n",
       "      <td>[{'embed_code': '&lt;object width=\"430\" height=\"2...</td>\n",
       "      <td>[]</td>\n",
       "      <td>[{'external_url': 'http://www.online-tech-tips...</td>\n",
       "      <td>[]</td>\n",
       "      <td>9.0</td>\n",
       "      <td>15.0</td>\n",
       "      <td>NaN</td>\n",
       "      <td>NaN</td>\n",
       "      <td>NaN</td>\n",
       "      <td>NaN</td>\n",
       "    </tr>\n",
       "    <tr>\n",
       "      <td>2</td>\n",
       "      <td>52cdef7c4bab8bd675297d8a</td>\n",
       "      <td>Wetpaint</td>\n",
       "      <td>abc2</td>\n",
       "      <td>http://www.crunchbase.com/company/wetpaint</td>\n",
       "      <td>http://wetpaint-inc.com</td>\n",
       "      <td>http://digitalquarters.net/</td>\n",
       "      <td>http://digitalquarters.net/feed/</td>\n",
       "      <td>BachelrWetpaint</td>\n",
       "      <td>web</td>\n",
       "      <td>47.0</td>\n",
       "      <td>...</td>\n",
       "      <td>[]</td>\n",
       "      <td>[{'available_sizes': [[[150, 86], 'assets/imag...</td>\n",
       "      <td>[{'external_url': 'http://www.geekwire.com/201...</td>\n",
       "      <td>[]</td>\n",
       "      <td>10.0</td>\n",
       "      <td>17.0</td>\n",
       "      <td>NaN</td>\n",
       "      <td>NaN</td>\n",
       "      <td>NaN</td>\n",
       "      <td>NaN</td>\n",
       "    </tr>\n",
       "  </tbody>\n",
       "</table>\n",
       "<p>3 rows × 42 columns</p>\n",
       "</div>"
      ],
      "text/plain": [
       "                        _id       name permalink  \\\n",
       "0  52cdef7c4bab8bd675297d8b  AdventNet      abc3   \n",
       "1  52cdef7c4bab8bd675297d8c       Zoho      abc4   \n",
       "2  52cdef7c4bab8bd675297d8a   Wetpaint      abc2   \n",
       "\n",
       "                                crunchbase_url             homepage_url  \\\n",
       "0  http://www.crunchbase.com/company/adventnet     http://adventnet.com   \n",
       "1       http://www.crunchbase.com/company/zoho          http://zoho.com   \n",
       "2   http://www.crunchbase.com/company/wetpaint  http://wetpaint-inc.com   \n",
       "\n",
       "                      blog_url                     blog_feed_url  \\\n",
       "0                                                                  \n",
       "1       http://blogs.zoho.com/        http://blogs.zoho.com/feed   \n",
       "2  http://digitalquarters.net/  http://digitalquarters.net/feed/   \n",
       "\n",
       "  twitter_username category_code  number_of_employees  ...  \\\n",
       "0     manageengine    enterprise                600.0  ...   \n",
       "1             zoho      software               1600.0  ...   \n",
       "2  BachelrWetpaint           web                 47.0  ...   \n",
       "\n",
       "                                        video_embeds  \\\n",
       "0                                                 []   \n",
       "1  [{'embed_code': '<object width=\"430\" height=\"2...   \n",
       "2                                                 []   \n",
       "\n",
       "                                         screenshots  \\\n",
       "0  [{'available_sizes': [[[150, 94], 'assets/imag...   \n",
       "1                                                 []   \n",
       "2  [{'available_sizes': [[[150, 86], 'assets/imag...   \n",
       "\n",
       "                                      external_links partners founded_month  \\\n",
       "0                                                 []       []           NaN   \n",
       "1  [{'external_url': 'http://www.online-tech-tips...       []           9.0   \n",
       "2  [{'external_url': 'http://www.geekwire.com/201...       []          10.0   \n",
       "\n",
       "  founded_day deadpooled_month deadpooled_day deadpooled_url  ipo  \n",
       "0         NaN              NaN            NaN            NaN  NaN  \n",
       "1        15.0              NaN            NaN            NaN  NaN  \n",
       "2        17.0              NaN            NaN            NaN  NaN  \n",
       "\n",
       "[3 rows x 42 columns]"
      ]
     },
     "execution_count": 62,
     "metadata": {},
     "output_type": "execute_result"
    }
   ],
   "source": [
    "data_companies.head(3)"
   ]
  },
  {
   "cell_type": "code",
   "execution_count": 11,
   "metadata": {},
   "outputs": [
    {
     "data": {
      "text/plain": [
       "(18801, 42)"
      ]
     },
     "execution_count": 11,
     "metadata": {},
     "output_type": "execute_result"
    }
   ],
   "source": [
    "data_companies.shape"
   ]
  },
  {
   "cell_type": "code",
   "execution_count": 12,
   "metadata": {},
   "outputs": [
    {
     "data": {
      "text/plain": [
       "web                 3787\n",
       "software            2736\n",
       "games_video         1083\n",
       "mobile              1018\n",
       "other                986\n",
       "advertising          928\n",
       "enterprise           742\n",
       "ecommerce            688\n",
       "consulting           637\n",
       "network_hosting      626\n",
       "public_relations     533\n",
       "search               394\n",
       "biotech              373\n",
       "hardware             368\n",
       "cleantech            305\n",
       "semiconductor        167\n",
       "security             156\n",
       "analytics             66\n",
       "social                49\n",
       "finance               49\n",
       "news                  48\n",
       "education             36\n",
       "music                 33\n",
       "messaging             30\n",
       "travel                25\n",
       "medical               25\n",
       "legal                 25\n",
       "photo_video           23\n",
       "health                23\n",
       "manufacturing         19\n",
       "sports                13\n",
       "fashion               10\n",
       "real_estate           10\n",
       "automotive             9\n",
       "hospitality            8\n",
       "transportation         7\n",
       "nanotech               5\n",
       "nonprofit              4\n",
       "design                 4\n",
       "local                  1\n",
       "government             1\n",
       "Name: category_code, dtype: int64"
      ]
     },
     "execution_count": 12,
     "metadata": {},
     "output_type": "execute_result"
    }
   ],
   "source": [
    "data_companies[\"category_code\"].value_counts()"
   ]
  },
  {
   "cell_type": "markdown",
   "metadata": {},
   "source": []
  },
  {
   "cell_type": "code",
   "execution_count": 13,
   "metadata": {},
   "outputs": [],
   "source": [
    "acquisition = db.companies.find({\"$and\":[\n",
    "                               {\"founded_year\": {\"$gte\": 2000}},\n",
    "                               {\"total_money_raised\":{\"$regex\":'M'}},\n",
    "                               {\"$or\": [\n",
    "                                   {\"category_code\": \"web\" } ,\n",
    "                                   {\"category_code\": \"software\" } ,\n",
    "                                   {\"category_code\": \"games_video\" } ,\n",
    "                                   ]} ,                                ]\n",
    "                               },\n",
    "                                {\"_id\": 0, \"crunchbase_url\": 0, \"products\": 0,\n",
    "                                \"acquisition\": 0, \"acquisitions\": 0, \"video_embeds\": 0,\n",
    "                                \"screenshots\": 0, \"external_links\": 0, \"partners\": 0,\n",
    "                                \"image\": 0, \"blog_feed_url\": 0, \"blog_url\":0, \"deadpooled_day\":0,\n",
    "                                \"deadpooled_year\":0, \"deadpooled_month\":0, \"deadpooled_url\":0, \"ipo\":0,\n",
    "                                \"permalink\":0, \"homepage_url\":0, \"tag_list\":0, \"email_addres\": 0, \"providerships\": 0,\n",
    "                                \"milestones\": 0, \"twitter_username\": 0, \"updated_at\": 0, \"email_address\":0, \"investments\":0,\n",
    "                               }\n",
    "                                    )"
   ]
  },
  {
   "cell_type": "code",
   "execution_count": 14,
   "metadata": {},
   "outputs": [],
   "source": [
    "acquisition = pd.DataFrame(acquisition)"
   ]
  },
  {
   "cell_type": "code",
   "execution_count": 15,
   "metadata": {},
   "outputs": [
    {
     "data": {
      "text/plain": [
       "(1036, 16)"
      ]
     },
     "execution_count": 15,
     "metadata": {},
     "output_type": "execute_result"
    }
   ],
   "source": [
    "acquisition.shape"
   ]
  },
  {
   "cell_type": "code",
   "execution_count": 17,
   "metadata": {},
   "outputs": [],
   "source": [
    "acquisition = acquisition.replace(np.nan, 0)"
   ]
  },
  {
   "cell_type": "code",
   "execution_count": 18,
   "metadata": {},
   "outputs": [
    {
     "data": {
      "text/plain": [
       "name                   0\n",
       "category_code          0\n",
       "number_of_employees    0\n",
       "founded_year           0\n",
       "founded_month          0\n",
       "founded_day            0\n",
       "alias_list             0\n",
       "phone_number           0\n",
       "description            0\n",
       "created_at             0\n",
       "overview               0\n",
       "relationships          0\n",
       "competitions           0\n",
       "total_money_raised     0\n",
       "funding_rounds         0\n",
       "offices                0\n",
       "dtype: int64"
      ]
     },
     "execution_count": 18,
     "metadata": {},
     "output_type": "execute_result"
    }
   ],
   "source": [
    "acquisition.isnull().sum()"
   ]
  },
  {
   "cell_type": "code",
   "execution_count": 19,
   "metadata": {},
   "outputs": [],
   "source": [
    "latitude = db.companies.find({\"offices.latitude\":1})\n",
    "longitude = db.companies.find({\"offices.longitude\":1})\n"
   ]
  },
  {
   "cell_type": "code",
   "execution_count": 20,
   "metadata": {},
   "outputs": [],
   "source": [
    "def geopoint(x):\n",
    "    for ele in x:\n",
    "        longitude = ele[\"longitude\"]\n",
    "        latitude = ele[\"latitude\"]\n",
    "        \n",
    "        return{\"type\": \"Point\", \"coordinates\": {'longitude': longitude , 'latitude': latitude}}\n",
    "\n",
    "acquisition[\"geo\"] = acquisition[\"offices\"].apply(geopoint)"
   ]
  },
  {
   "cell_type": "code",
   "execution_count": 21,
   "metadata": {},
   "outputs": [],
   "source": [
    "b=acquisition[acquisition[\"geo\"]=={'type': 'Point', 'coordinates': {'longitude': None, 'latitude': None}}].index\n",
    "acquisition.drop(b,axis=0,inplace=True)"
   ]
  },
  {
   "cell_type": "code",
   "execution_count": 22,
   "metadata": {},
   "outputs": [],
   "source": [
    "acquisition.dropna(subset=['geo'], inplace=True)"
   ]
  },
  {
   "cell_type": "code",
   "execution_count": 23,
   "metadata": {},
   "outputs": [
    {
     "data": {
      "text/plain": [
       "0"
      ]
     },
     "execution_count": 23,
     "metadata": {},
     "output_type": "execute_result"
    }
   ],
   "source": [
    "acquisition.geo.isnull().sum()"
   ]
  },
  {
   "cell_type": "code",
   "execution_count": 25,
   "metadata": {},
   "outputs": [],
   "source": [
    "acquisition.to_json(\"office.json\",orient=\"records\", lines=True)"
   ]
  },
  {
   "cell_type": "code",
   "execution_count": 26,
   "metadata": {},
   "outputs": [
    {
     "data": {
      "text/plain": [
       "{'type': 'Point', 'coordinates': {'longitude': -122.419204, 'latitude': 37.775196}}      12\n",
       "{'type': 'Point', 'coordinates': {'longitude': -95.712891, 'latitude': 37.09024}}         8\n",
       "{'type': 'Point', 'coordinates': {'longitude': 34.7595, 'latitude': 32.0554}}             4\n",
       "{'type': 'Point', 'coordinates': {'longitude': -122.159928, 'latitude': 37.437328}}       3\n",
       "{'type': 'Point', 'coordinates': {'longitude': -73.986951, 'latitude': 40.756054}}        3\n",
       "                                                                                         ..\n",
       "{'type': 'Point', 'coordinates': {'longitude': -105.228284, 'latitude': 40.026422}}       1\n",
       "{'type': 'Point', 'coordinates': {'longitude': 6.921546, 'latitude': 50.945289}}          1\n",
       "{'type': 'Point', 'coordinates': {'longitude': -118.462876, 'latitude': 34.054318}}       1\n",
       "{'type': 'Point', 'coordinates': {'longitude': -122.1797053, 'latitude': 37.4520239}}     1\n",
       "{'type': 'Point', 'coordinates': {'longitude': -122.2103414, 'latitude': 37.420728}}      1\n",
       "Name: geo, Length: 700, dtype: int64"
      ]
     },
     "execution_count": 26,
     "metadata": {},
     "output_type": "execute_result"
    }
   ],
   "source": [
    "acquisition['geo'].value_counts()"
   ]
  },
  {
   "cell_type": "code",
   "execution_count": 27,
   "metadata": {},
   "outputs": [],
   "source": [
    "db = client.office"
   ]
  },
  {
   "cell_type": "code",
   "execution_count": 28,
   "metadata": {},
   "outputs": [],
   "source": [
    "near = db.office.find()\n",
    "df = pd.DataFrame(near)"
   ]
  },
  {
   "cell_type": "code",
   "execution_count": 29,
   "metadata": {},
   "outputs": [],
   "source": [
    "def geonear(geopoint, maxdistance=1000):\n",
    "    return db.office.find({\n",
    "        \"geo\":{\n",
    "            \"$near\":{\n",
    "                \"$geometry\":geopoint,\n",
    "                \"$maxDistance\":maxdistance\n",
    "            }}})\n",
    "\n",
    "San_Francisco = {'type': 'Point', 'coordinates': [-122.393229, 37.781265]}"
   ]
  },
  {
   "cell_type": "code",
   "execution_count": 30,
   "metadata": {},
   "outputs": [
    {
     "data": {
      "text/html": [
       "<div>\n",
       "<style scoped>\n",
       "    .dataframe tbody tr th:only-of-type {\n",
       "        vertical-align: middle;\n",
       "    }\n",
       "\n",
       "    .dataframe tbody tr th {\n",
       "        vertical-align: top;\n",
       "    }\n",
       "\n",
       "    .dataframe thead th {\n",
       "        text-align: right;\n",
       "    }\n",
       "</style>\n",
       "<table border=\"1\" class=\"dataframe\">\n",
       "  <thead>\n",
       "    <tr style=\"text-align: right;\">\n",
       "      <th></th>\n",
       "      <th>name</th>\n",
       "      <th>latitude</th>\n",
       "      <th>longitude</th>\n",
       "    </tr>\n",
       "  </thead>\n",
       "  <tbody>\n",
       "    <tr>\n",
       "      <td>0</td>\n",
       "      <td>games_video</td>\n",
       "      <td>37.781265</td>\n",
       "      <td>-122.393229</td>\n",
       "    </tr>\n",
       "    <tr>\n",
       "      <td>1</td>\n",
       "      <td>games_video</td>\n",
       "      <td>37.780716</td>\n",
       "      <td>-122.393913</td>\n",
       "    </tr>\n",
       "  </tbody>\n",
       "</table>\n",
       "</div>"
      ],
      "text/plain": [
       "          name   latitude   longitude\n",
       "0  games_video  37.781265 -122.393229\n",
       "1  games_video  37.780716 -122.393913"
      ]
     },
     "execution_count": 30,
     "metadata": {},
     "output_type": "execute_result"
    }
   ],
   "source": [
    "empresas = pd.DataFrame(geonear(San_Francisco,1000))\n",
    "\n",
    "def empresas_cercanas(local):\n",
    "    names = []\n",
    "    lats =[]\n",
    "    long=[]\n",
    "    for i in empresas['geo']:\n",
    "        long.append(i['coordinates']['longitude'])\n",
    "        lats.append(i['coordinates']['latitude'])\n",
    "    for el in empresas['category_code']:\n",
    "        names.append(el)\n",
    "    local = {\"name\":names, \"latitude\":lats, \"longitude\":long}\n",
    "    return pd.DataFrame(local)\n",
    "empresas_cercanas = empresas_cercanas(empresas)\n",
    "empresas_cercanas.head(2)"
   ]
  },
  {
   "cell_type": "code",
   "execution_count": null,
   "metadata": {},
   "outputs": [],
   "source": []
  },
  {
   "cell_type": "code",
   "execution_count": 50,
   "metadata": {},
   "outputs": [],
   "source": [
    "import requests\n",
    "import json\n",
    "\n",
    "url = 'https://api.foursquare.com/v2/venues/explore'\n",
    "\n",
    "params = dict(\n",
    " client_id='HIX31VQGRL1GODLF1XYQO5ERLH1WBFWLLCAPWYHLNATD55JC',\n",
    " client_secret= secret,\n",
    " v='20180323',\n",
    " ll='37.781265, -122.393229',\n",
    " query='starbucks',\n",
    " radius=\"1000\"\n",
    " #limit=5\n",
    ")\n",
    "\n",
    "resp = requests.get(url=url, params=params)\n",
    "data = json.loads(resp.text)\n"
   ]
  },
  {
   "cell_type": "code",
   "execution_count": 32,
   "metadata": {},
   "outputs": [],
   "source": [
    "import folium\n",
    "from folium.plugins import HeatMap\n",
    "from folium.plugins import MeasureControl"
   ]
  },
  {
   "cell_type": "code",
   "execution_count": 33,
   "metadata": {},
   "outputs": [
    {
     "data": {
      "text/html": [
       "<div>\n",
       "<style scoped>\n",
       "    .dataframe tbody tr th:only-of-type {\n",
       "        vertical-align: middle;\n",
       "    }\n",
       "\n",
       "    .dataframe tbody tr th {\n",
       "        vertical-align: top;\n",
       "    }\n",
       "\n",
       "    .dataframe thead th {\n",
       "        text-align: right;\n",
       "    }\n",
       "</style>\n",
       "<table border=\"1\" class=\"dataframe\">\n",
       "  <thead>\n",
       "    <tr style=\"text-align: right;\">\n",
       "      <th></th>\n",
       "      <th>name</th>\n",
       "      <th>latitude</th>\n",
       "      <th>longitude</th>\n",
       "    </tr>\n",
       "  </thead>\n",
       "  <tbody>\n",
       "    <tr>\n",
       "      <td>0</td>\n",
       "      <td>Starbucks</td>\n",
       "      <td>37.778704</td>\n",
       "      <td>-122.396727</td>\n",
       "    </tr>\n",
       "    <tr>\n",
       "      <td>1</td>\n",
       "      <td>Starbucks</td>\n",
       "      <td>37.789651</td>\n",
       "      <td>-122.396622</td>\n",
       "    </tr>\n",
       "  </tbody>\n",
       "</table>\n",
       "</div>"
      ],
      "text/plain": [
       "        name   latitude   longitude\n",
       "0  Starbucks  37.778704 -122.396727\n",
       "1  Starbucks  37.789651 -122.396622"
      ]
     },
     "execution_count": 33,
     "metadata": {},
     "output_type": "execute_result"
    }
   ],
   "source": [
    "def starbucks(lugar):\n",
    "   names=[]\n",
    "   lats=[]\n",
    "   long=[]\n",
    "   for e in data['response']['groups'][0]['items']:\n",
    "       names.append(e['venue']['name'])\n",
    "       lats.append(e['venue']['location']['lat'])\n",
    "       long.append(e['venue']['location']['lng'])\n",
    "   lugar = {\"name\":names, \"latitude\":lats, \"longitude\":long}\n",
    "   return pd.DataFrame(lugar)\n",
    "starbucks = starbucks(data)\n",
    "starbucks.head(2)"
   ]
  },
  {
   "cell_type": "code",
   "execution_count": null,
   "metadata": {},
   "outputs": [],
   "source": []
  },
  {
   "cell_type": "code",
   "execution_count": 68,
   "metadata": {},
   "outputs": [],
   "source": [
    "url = 'https://api.foursquare.com/v2/venues/explore'\n",
    "\n",
    "params_1 = dict(\n",
    "  client_id='HIX31VQGRL1GODLF1XYQO5ERLH1WBFWLLCAPWYHLNATD55JC',\n",
    "  client_secret= '3CVWFRJLEFHRKVT3HCMGEAK1ZOW1NZU3OAUOSRP2AGOTLIC2',\n",
    "  v='20180323',\n",
    "  ll='37.781265, -122.393229',\n",
    "  query='4bf58dd8d48988d11f941735',\n",
    "  radius = 1000\n",
    "\n",
    ")\n",
    "resp = requests.get(url=url, params=params_1)\n",
    "data = json.loads(resp.text)\n",
    "\n",
    "\n"
   ]
  },
  {
   "cell_type": "code",
   "execution_count": 60,
   "metadata": {},
   "outputs": [
    {
     "data": {
      "text/html": [
       "<div>\n",
       "<style scoped>\n",
       "    .dataframe tbody tr th:only-of-type {\n",
       "        vertical-align: middle;\n",
       "    }\n",
       "\n",
       "    .dataframe tbody tr th {\n",
       "        vertical-align: top;\n",
       "    }\n",
       "\n",
       "    .dataframe thead th {\n",
       "        text-align: right;\n",
       "    }\n",
       "</style>\n",
       "<table border=\"1\" class=\"dataframe\">\n",
       "  <thead>\n",
       "    <tr style=\"text-align: right;\">\n",
       "      <th></th>\n",
       "      <th>name</th>\n",
       "      <th>latitude</th>\n",
       "      <th>longitude</th>\n",
       "    </tr>\n",
       "  </thead>\n",
       "  <tbody>\n",
       "    <tr>\n",
       "      <td>0</td>\n",
       "      <td>H.D. Buttercup</td>\n",
       "      <td>37.777490</td>\n",
       "      <td>-122.394582</td>\n",
       "    </tr>\n",
       "    <tr>\n",
       "      <td>1</td>\n",
       "      <td>AMC Metreon 16</td>\n",
       "      <td>37.784654</td>\n",
       "      <td>-122.403189</td>\n",
       "    </tr>\n",
       "    <tr>\n",
       "      <td>2</td>\n",
       "      <td>Tazza D'Amore</td>\n",
       "      <td>37.776636</td>\n",
       "      <td>-122.394897</td>\n",
       "    </tr>\n",
       "  </tbody>\n",
       "</table>\n",
       "</div>"
      ],
      "text/plain": [
       "             name   latitude   longitude\n",
       "0  H.D. Buttercup  37.777490 -122.394582\n",
       "1  AMC Metreon 16  37.784654 -122.403189\n",
       "2   Tazza D'Amore  37.776636 -122.394897"
      ]
     },
     "execution_count": 60,
     "metadata": {},
     "output_type": "execute_result"
    }
   ],
   "source": [
    "def club(lugar):\n",
    "   names=[]\n",
    "   lats=[]\n",
    "   long=[]\n",
    "   for e in data['response']['groups'][0]['items']:\n",
    "       names.append(e['venue']['name'])\n",
    "       lats.append(e['venue']['location']['lat'])\n",
    "       long.append(e['venue']['location']['lng'])\n",
    "   lugar = {\"name\":names, \"latitude\":lats, \"longitude\":long}\n",
    "   return pd.DataFrame(lugar)\n",
    "club = club(data)\n",
    "club.head()"
   ]
  },
  {
   "cell_type": "code",
   "execution_count": 67,
   "metadata": {},
   "outputs": [],
   "source": [
    "url = 'https://api.foursquare.com/v2/venues/explore'\n",
    "\n",
    "parames = dict(\n",
    "  client_id='HIX31VQGRL1GODLF1XYQO5ERLH1WBFWLLCAPWYHLNATD55JC',\n",
    "  client_secret= '3CVWFRJLEFHRKVT3HCMGEAK1ZOW1NZU3OAUOSRP2AGOTLIC2',\n",
    "  v='20180323',\n",
    "  ll='37.781265, -122.393229',\n",
    "  categoryId = '5744ccdfe4b0c0459246b4c7',\n",
    "  radius = 1000\n",
    "\n",
    ")\n",
    "respoco = requests.get(url=url, params=parames)\n",
    "dataco = json.loads(respoco.text)\n"
   ]
  },
  {
   "cell_type": "code",
   "execution_count": 65,
   "metadata": {},
   "outputs": [
    {
     "data": {
      "text/html": [
       "<div>\n",
       "<style scoped>\n",
       "    .dataframe tbody tr th:only-of-type {\n",
       "        vertical-align: middle;\n",
       "    }\n",
       "\n",
       "    .dataframe tbody tr th {\n",
       "        vertical-align: top;\n",
       "    }\n",
       "\n",
       "    .dataframe thead th {\n",
       "        text-align: right;\n",
       "    }\n",
       "</style>\n",
       "<table border=\"1\" class=\"dataframe\">\n",
       "  <thead>\n",
       "    <tr style=\"text-align: right;\">\n",
       "      <th></th>\n",
       "      <th>name</th>\n",
       "      <th>latitude</th>\n",
       "      <th>longitude</th>\n",
       "    </tr>\n",
       "  </thead>\n",
       "  <tbody>\n",
       "    <tr>\n",
       "      <td>0</td>\n",
       "      <td>Bright Horizons at 2nd Street</td>\n",
       "      <td>37.784808</td>\n",
       "      <td>-122.394899</td>\n",
       "    </tr>\n",
       "    <tr>\n",
       "      <td>1</td>\n",
       "      <td>Chirp Connecting Families and Nannies LLC</td>\n",
       "      <td>37.785786</td>\n",
       "      <td>-122.392112</td>\n",
       "    </tr>\n",
       "    <tr>\n",
       "      <td>2</td>\n",
       "      <td>Kids by the Bay - Financial District</td>\n",
       "      <td>37.785548</td>\n",
       "      <td>-122.398033</td>\n",
       "    </tr>\n",
       "    <tr>\n",
       "      <td>3</td>\n",
       "      <td>Bark Avenue</td>\n",
       "      <td>37.775338</td>\n",
       "      <td>-122.394974</td>\n",
       "    </tr>\n",
       "    <tr>\n",
       "      <td>4</td>\n",
       "      <td>Modern Education Family Childcare IV</td>\n",
       "      <td>37.773490</td>\n",
       "      <td>-122.391494</td>\n",
       "    </tr>\n",
       "  </tbody>\n",
       "</table>\n",
       "</div>"
      ],
      "text/plain": [
       "                                        name   latitude   longitude\n",
       "0              Bright Horizons at 2nd Street  37.784808 -122.394899\n",
       "1  Chirp Connecting Families and Nannies LLC  37.785786 -122.392112\n",
       "2       Kids by the Bay - Financial District  37.785548 -122.398033\n",
       "3                                Bark Avenue  37.775338 -122.394974\n",
       "4       Modern Education Family Childcare IV  37.773490 -122.391494"
      ]
     },
     "execution_count": 65,
     "metadata": {},
     "output_type": "execute_result"
    }
   ],
   "source": [
    "def guarde(lugare):\n",
    "   name=[]\n",
    "   lat=[]\n",
    "   lng=[]\n",
    "   for e in dataco['response']['groups'][0]['items']:\n",
    "       name.append(e['venue']['name'])\n",
    "       lat.append(e['venue']['location']['lat'])\n",
    "       lng.append(e['venue']['location']['lng'])\n",
    "   \n",
    "   lugare = {\"name\":name, \"latitude\":lat, \"longitude\":lng}\n",
    "   return pd.DataFrame(lugare)\n",
    "guarde = guarde(dataco)\n",
    "guarde.head()"
   ]
  },
  {
   "cell_type": "code",
   "execution_count": 66,
   "metadata": {},
   "outputs": [
    {
     "data": {
      "text/html": [
       "<div style=\"width:100%;\"><div style=\"position:relative;width:100%;height:0;padding-bottom:60%;\"><iframe src=\"data:text/html;charset=utf-8;base64,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\" style=\"position:absolute;width:100%;height:100%;left:0;top:0;border:none !important;\" allowfullscreen webkitallowfullscreen mozallowfullscreen></iframe></div></div>"
      ],
      "text/plain": [
       "<folium.folium.Map at 0x7f390f0ea9b0>"
      ]
     },
     "execution_count": 66,
     "metadata": {},
     "output_type": "execute_result"
    }
   ],
   "source": [
    "map_starbucks = folium.Map(location=[37.781265, -122.393229], width=750, height=500, zoom_start=15)\n",
    "\n",
    "for index, row in starbucks.iterrows():\n",
    "    folium.Marker([row['latitude'], row['longitude']],\n",
    "                        radius=2,\n",
    "                        icon=folium.Icon(color='red', icon='cloud'), # Icono nube, hay más en la documentación\n",
    "                        \n",
    "                       ).add_to(map_starbucks)\n",
    "   \n",
    "for index, row in guarde.iterrows():\n",
    "    folium.Marker([row['latitude'], row['longitude']],\n",
    "                        radius=2,\n",
    "                        icon=folium.Icon(color='blue', icon='info'), \n",
    "                        \n",
    "                       ).add_to(map_starbucks)\n",
    "    folium.Circle(location=[37.781265, -122.393229],\n",
    "                    radius=50\n",
    "                   ).add_to(map_starbucks)\n",
    "    \n",
    "    folium.Circle(location=[37.781265, -122.393229],\n",
    "                    radius=1000\n",
    "                   ).add_to(map_starbucks)\n",
    "\n",
    "for index, row in club.iterrows(): \n",
    "    folium.Marker([row['latitude'], row['longitude']],\n",
    "                        radius=2,\n",
    "                        icon=folium.Icon(icon='glass'), \n",
    "                        fill_color=\"#F35C50\",\n",
    "                       ).add_to(map_starbucks)\n",
    "    \n",
    "for index, row in empresas_cercanas.iterrows(): \n",
    "    folium.Marker([row['latitude'], row['longitude']],\n",
    "                        radius=2,\n",
    "                        icon=folium.Icon(color= 'green', icon='cloud' ),  \n",
    "                        fill_color=\"#F35C50\"\n",
    "                       ).add_to(map_starbucks)\n",
    "\n",
    "map_starbucks.add_child(MeasureControl())"
   ]
  },
  {
   "cell_type": "code",
   "execution_count": 53,
   "metadata": {},
   "outputs": [],
   "source": [
    "\n"
   ]
  },
  {
   "cell_type": "code",
   "execution_count": null,
   "metadata": {},
   "outputs": [],
   "source": []
  },
  {
   "cell_type": "code",
   "execution_count": null,
   "metadata": {},
   "outputs": [],
   "source": []
  },
  {
   "cell_type": "code",
   "execution_count": null,
   "metadata": {},
   "outputs": [],
   "source": []
  },
  {
   "cell_type": "code",
   "execution_count": null,
   "metadata": {},
   "outputs": [],
   "source": []
  }
 ],
 "metadata": {
  "kernelspec": {
   "display_name": "Python 3",
   "language": "python",
   "name": "python3"
  },
  "language_info": {
   "codemirror_mode": {
    "name": "ipython",
    "version": 3
   },
   "file_extension": ".py",
   "mimetype": "text/x-python",
   "name": "python",
   "nbconvert_exporter": "python",
   "pygments_lexer": "ipython3",
   "version": "3.7.3"
  }
 },
 "nbformat": 4,
 "nbformat_minor": 2
}
